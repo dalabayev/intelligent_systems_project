{
 "cells": [
  {
   "cell_type": "markdown",
   "metadata": {},
   "source": [
    "Important imports and array handling and plotting"
   ]
  },
  {
   "cell_type": "code",
   "execution_count": 30,
   "metadata": {},
   "outputs": [],
   "source": [
    "%matplotlib inline"
   ]
  },
  {
   "cell_type": "code",
   "execution_count": 31,
   "metadata": {},
   "outputs": [],
   "source": [
    "import numpy as np\n",
    "import matplotlib\n",
    "matplotlib.use('agg')\n",
    "import matplotlib.pyplot as plt\n",
    "\n",
    "import os\n",
    "os.environ['TP_CPP_MIN_LOG_LEVEL']='3'\n",
    "\n",
    "from keras.datasets import mnist\n",
    "from keras.models import Sequential, load_model\n",
    "from keras.layers.core import Dense, Dropout, Activation\n",
    "from keras.utils import np_utils"
   ]
  },
  {
   "cell_type": "markdown",
   "metadata": {},
   "source": [
    "Loading dataset and splitting it into train and test sets"
   ]
  },
  {
   "cell_type": "code",
   "execution_count": 32,
   "metadata": {},
   "outputs": [],
   "source": [
    "(X_train, y_train), (X_test, y_test) = mnist.load_data()"
   ]
  },
  {
   "cell_type": "markdown",
   "metadata": {},
   "source": [
    "Plotting some examples"
   ]
  },
  {
   "cell_type": "code",
   "execution_count": 33,
   "metadata": {},
   "outputs": [
    {
     "data": {
      "image/png": "[encoded data removed]",
      "text/plain": [
       "<Figure size 432x288 with 9 Axes>"
      ]
     },
     "execution_count": 33,
     "metadata": {},
     "output_type": "execute_result"
    }
   ],
   "source": [
    "fig = plt.figure()\n",
    "for i in range(9):\n",
    "    plt.subplot(3, 3, i+1)\n",
    "    plt.tight_layout()\n",
    "    plt.imshow(X_train[i], cmap='gray', interpolation='none')\n",
    "    plt.title(\"digit: {}\".format(y_train[i]))\n",
    "    plt.xticks([])\n",
    "    plt.yticks([])\n",
    "fig"
   ]
  },
  {
   "cell_type": "code",
   "execution_count": 34,
   "metadata": {},
   "outputs": [
    {
     "data": {
      "image/png": "[encoded data removed]",
      "text/plain": [
       "<Figure size 432x288 with 2 Axes>"
      ]
     },
     "execution_count": 34,
     "metadata": {},
     "output_type": "execute_result"
    }
   ],
   "source": [
    "fig = plt.figure()\n",
    "plt.subplot(2,1,1)\n",
    "plt.imshow(X_train[0], cmap='gray', interpolation='none')\n",
    "plt.title(\"Digit: {}\".format(y_train[0]))\n",
    "plt.xticks([])\n",
    "plt.yticks([])\n",
    "plt.subplot(2,1,2)\n",
    "plt.hist(X_train[0].reshape(784))\n",
    "plt.title(\"Pixel Value Distribution\")\n",
    "fig"
   ]
  },
  {
   "cell_type": "code",
   "execution_count": 35,
   "metadata": {},
   "outputs": [
    {
     "name": "stdout",
     "output_type": "stream",
     "text": [
      "X_train shape (60000, 28, 28)\n",
      "y_train shape (60000,)\n",
      "X_test shape (10000, 28, 28)\n",
      "y_test shape (10000,)\n"
     ]
    }
   ],
   "source": [
    "# let's print the shape before we reshape and normalize\n",
    "print(\"X_train shape\", X_train.shape)\n",
    "print(\"y_train shape\", y_train.shape)\n",
    "print(\"X_test shape\", X_test.shape)\n",
    "print(\"y_test shape\", y_test.shape)"
   ]
  },
  {
   "cell_type": "code",
   "execution_count": 36,
   "metadata": {},
   "outputs": [],
   "source": [
    "# building the input vector from the 28x28 pixels\n",
    "X_train = X_train.reshape(60000, 784)\n",
    "X_test = X_test.reshape(10000, 784)\n",
    "X_train = X_train.astype('float32')\n",
    "X_test = X_test.astype('float32')"
   ]
  },
  {
   "cell_type": "code",
   "execution_count": 37,
   "metadata": {},
   "outputs": [],
   "source": [
    "# normalizing the data to help with the training\n",
    "X_train /= 255\n",
    "X_test /= 255"
   ]
  },
  {
   "cell_type": "code",
   "execution_count": 38,
   "metadata": {},
   "outputs": [
    {
     "name": "stdout",
     "output_type": "stream",
     "text": [
      "Train matrix shape (60000, 784)\n",
      "Test matrix shape (10000, 784)\n"
     ]
    }
   ],
   "source": [
    "# print the final input shape ready for training\n",
    "print(\"Train matrix shape\", X_train.shape)\n",
    "print(\"Test matrix shape\", X_test.shape)"
   ]
  },
  {
   "cell_type": "code",
   "execution_count": 39,
   "metadata": {},
   "outputs": [
    {
     "name": "stdout",
     "output_type": "stream",
     "text": [
      "(array([0, 1, 2, 3, 4, 5, 6, 7, 8, 9], dtype=uint8), array([5923, 6742, 5958, 6131, 5842, 5421, 5918, 6265, 5851, 5949]))\n"
     ]
    }
   ],
   "source": [
    "print(np.unique(y_train, return_counts=True))"
   ]
  },
  {
   "cell_type": "code",
   "execution_count": 47,
   "metadata": {},
   "outputs": [
    {
     "name": "stdout",
     "output_type": "stream",
     "text": [
      "Shape before one-hot encoding:  (60000,)\n",
      "Shape after one-hot encoding:  (60000, 10)\n"
     ]
    }
   ],
   "source": [
    "# one-hot encoding using keras' numpy-related utilities\n",
    "n_classes = 10\n",
    "print(\"Shape before one-hot encoding: \", y_train.shape)\n",
    "#Y_train = np_utils.to_categorical(y_train, n_classes)\n",
    "#Y_test = np_utils.to_categorical(y_test, n_classes)\n",
    "print(\"Shape after one-hot encoding: \", Y_train.shape)"
   ]
  },
  {
   "cell_type": "code",
   "execution_count": 55,
   "metadata": {},
   "outputs": [],
   "source": []
  },
  {
   "cell_type": "code",
   "execution_count": 56,
   "metadata": {},
   "outputs": [],
   "source": [
    "from keras.wrappers.scikit_learn import KerasClassifier\n",
    "from sklearn.model_selection import GridSearchCV\n",
    "from sklearn.metrics import classification_report"
   ]
  },
  {
   "cell_type": "code",
   "execution_count": 57,
   "metadata": {},
   "outputs": [],
   "source": []
  },
  {
   "cell_type": "markdown",
   "metadata": {},
   "source": [
    "## Comparing the Training Optimization Algorithm"
   ]
  },
  {
   "cell_type": "code",
   "execution_count": 59,
   "metadata": {},
   "outputs": [
    {
     "name": "stdout",
     "output_type": "stream",
     "text": [
      "Best: 0.980117 using {'optimizer': 'Adadelta'}\n",
      "0.942450 (0.002757) with: {'optimizer': 'SGD'}\n",
      "0.978683 (0.001215) with: {'optimizer': 'RMSprop'}\n",
      "0.979400 (0.000909) with: {'optimizer': 'Adagrad'}\n",
      "0.980117 (0.000377) with: {'optimizer': 'Adadelta'}\n",
      "0.978117 (0.000754) with: {'optimizer': 'Adam'}\n",
      "0.979517 (0.001348) with: {'optimizer': 'Adamax'}\n",
      "0.978083 (0.000579) with: {'optimizer': 'Nadam'}\n"
     ]
    }
   ],
   "source": [
    "# building a linear stack of layers with the sequential model\n",
    "# Function to create model, required for KerasClassifier\n",
    "def create_model(optimizer='adam'):\n",
    "\t# create model\n",
    "    model = Sequential()\n",
    "    model.add(Dense(512, input_shape=(784,)))\n",
    "    model.add(Activation('relu'))                            \n",
    "    model.add(Dropout(0.2))\n",
    "\n",
    "    model.add(Dense(512))\n",
    "    model.add(Activation('relu'))\n",
    "    model.add(Dropout(0.2))\n",
    "\n",
    "    model.add(Dense(10))\n",
    "    model.add(Activation('softmax'))\n",
    "    \n",
    "    # compiling the sequential model\n",
    "    model.compile(loss='categorical_crossentropy', metrics=['accuracy'], optimizer=optimizer)\n",
    "    \n",
    "    return model\n",
    "# create model\n",
    "model = KerasClassifier(build_fn=create_model, epochs=20, batch_size=128, verbose=0)\n",
    "# define the grid search parameters\n",
    "optimizer = ['SGD', 'RMSprop', 'Adagrad', 'Adadelta', 'Adam', 'Adamax', 'Nadam']\n",
    "param_grid = dict(optimizer=optimizer)\n",
    "grid = GridSearchCV(estimator=model, param_grid=param_grid, n_jobs=-1, cv=3)\n",
    "grid_result = grid.fit(X_train, y_train)\n",
    "# summarize results\n",
    "print(\"Best: %f using %s\" % (grid_result.best_score_, grid_result.best_params_))\n",
    "means = grid_result.cv_results_['mean_test_score']\n",
    "stds = grid_result.cv_results_['std_test_score']\n",
    "params = grid_result.cv_results_['params']\n",
    "for mean, stdev, param in zip(means, stds, params):\n",
    "    print(\"%f (%f) with: %r\" % (mean, stdev, param))"
   ]
  },
  {
   "cell_type": "markdown",
   "metadata": {},
   "source": [
    "The results suggest that the \"Adadelta\" optimization algorithm is the best with a score of \"98%\" accuracy."
   ]
  },
  {
   "cell_type": "markdown",
   "metadata": {},
   "source": [
    "## Comparing Batch Size and Number of Epochs"
   ]
  },
  {
   "cell_type": "code",
   "execution_count": 60,
   "metadata": {},
   "outputs": [
    {
     "name": "stdout",
     "output_type": "stream",
     "text": [
      "Best: 0.980800 using {'batch_size': 128, 'epochs': 25}\n",
      "0.978567 (0.000531) with: {'batch_size': 32, 'epochs': 10}\n",
      "0.980100 (0.000722) with: {'batch_size': 32, 'epochs': 20}\n",
      "0.980783 (0.001022) with: {'batch_size': 32, 'epochs': 25}\n",
      "0.979367 (0.001790) with: {'batch_size': 64, 'epochs': 10}\n",
      "0.980033 (0.000872) with: {'batch_size': 64, 'epochs': 20}\n",
      "0.980567 (0.000411) with: {'batch_size': 64, 'epochs': 25}\n",
      "0.977850 (0.000147) with: {'batch_size': 128, 'epochs': 10}\n",
      "0.979900 (0.001795) with: {'batch_size': 128, 'epochs': 20}\n",
      "0.980800 (0.000960) with: {'batch_size': 128, 'epochs': 25}\n"
     ]
    }
   ],
   "source": [
    "def create_model1():\n",
    "\t# create model\n",
    "    model = Sequential()\n",
    "    model.add(Dense(512, input_shape=(784,)))\n",
    "    model.add(Activation('relu'))                            \n",
    "    model.add(Dropout(0.2))\n",
    "\n",
    "    model.add(Dense(512))\n",
    "    model.add(Activation('relu'))\n",
    "    model.add(Dropout(0.2))\n",
    "\n",
    "    model.add(Dense(10))\n",
    "    model.add(Activation('softmax'))\n",
    "    \n",
    "    # compiling the sequential model\n",
    "    model.compile(loss='categorical_crossentropy', metrics=['accuracy'], optimizer='Adadelta')\n",
    "    \n",
    "    return model\n",
    "\n",
    "# create model\n",
    "model = KerasClassifier(build_fn=create_model1, verbose=0)\n",
    "# define the grid search parameters\n",
    "batch_size = [32, 64, 128]\n",
    "epochs = [10, 20, 25]\n",
    "param_grid = dict(batch_size=batch_size, epochs=epochs)\n",
    "grid = GridSearchCV(estimator=model, param_grid=param_grid, n_jobs=-1, cv=3)\n",
    "grid_result = grid.fit(X_train, y_train)\n",
    "# summarize results\n",
    "print(\"Best: %f using %s\" % (grid_result.best_score_, grid_result.best_params_))\n",
    "means = grid_result.cv_results_['mean_test_score']\n",
    "stds = grid_result.cv_results_['std_test_score']\n",
    "params = grid_result.cv_results_['params']\n",
    "for mean, stdev, param in zip(means, stds, params):\n",
    "    print(\"%f (%f) with: %r\" % (mean, stdev, param))"
   ]
  },
  {
   "cell_type": "markdown",
   "metadata": {},
   "source": [
    "We can see that the batch size of 128 and 25 epochs achieved the best result of about 98% accuracy."
   ]
  },
  {
   "cell_type": "markdown",
   "metadata": {},
   "source": [
    "## Comparing Learning Rate and Momentum"
   ]
  },
  {
   "cell_type": "code",
   "execution_count": 65,
   "metadata": {},
   "outputs": [],
   "source": [
    "from keras.optimizers import SGD"
   ]
  },
  {
   "cell_type": "code",
   "execution_count": 66,
   "metadata": {},
   "outputs": [
    {
     "name": "stdout",
     "output_type": "stream",
     "text": [
      "Best: 0.980300 using {'learn_rate': 0.2, 'momentum': 0.6}\n",
      "0.883133 (0.003737) with: {'learn_rate': 0.001, 'momentum': 0.0}\n",
      "0.896017 (0.003035) with: {'learn_rate': 0.001, 'momentum': 0.3}\n",
      "0.911333 (0.002110) with: {'learn_rate': 0.001, 'momentum': 0.6}\n",
      "0.947833 (0.002330) with: {'learn_rate': 0.001, 'momentum': 0.9}\n",
      "0.948450 (0.002344) with: {'learn_rate': 0.01, 'momentum': 0.0}\n",
      "0.956633 (0.001417) with: {'learn_rate': 0.01, 'momentum': 0.3}\n",
      "0.965800 (0.001671) with: {'learn_rate': 0.01, 'momentum': 0.6}\n",
      "0.977600 (0.001368) with: {'learn_rate': 0.01, 'momentum': 0.9}\n",
      "0.977883 (0.001271) with: {'learn_rate': 0.1, 'momentum': 0.0}\n",
      "0.978167 (0.000811) with: {'learn_rate': 0.1, 'momentum': 0.3}\n",
      "0.979517 (0.001027) with: {'learn_rate': 0.1, 'momentum': 0.6}\n",
      "0.979383 (0.000352) with: {'learn_rate': 0.1, 'momentum': 0.9}\n",
      "0.979600 (0.000682) with: {'learn_rate': 0.2, 'momentum': 0.0}\n",
      "0.979483 (0.000726) with: {'learn_rate': 0.2, 'momentum': 0.3}\n",
      "0.980300 (0.000951) with: {'learn_rate': 0.2, 'momentum': 0.6}\n",
      "0.973867 (0.001455) with: {'learn_rate': 0.2, 'momentum': 0.9}\n",
      "0.979517 (0.001159) with: {'learn_rate': 0.3, 'momentum': 0.0}\n",
      "0.979867 (0.001539) with: {'learn_rate': 0.3, 'momentum': 0.3}\n",
      "0.979800 (0.000324) with: {'learn_rate': 0.3, 'momentum': 0.6}\n",
      "0.964750 (0.002599) with: {'learn_rate': 0.3, 'momentum': 0.9}\n"
     ]
    }
   ],
   "source": [
    "def create_model2(learn_rate=0.01, momentum=0):\n",
    "\t# create model\n",
    "    model = Sequential()\n",
    "    model.add(Dense(512, input_shape=(784,)))\n",
    "    model.add(Activation('relu'))                            \n",
    "    model.add(Dropout(0.2))\n",
    "\n",
    "    model.add(Dense(512))\n",
    "    model.add(Activation('relu'))\n",
    "    model.add(Dropout(0.2))\n",
    "\n",
    "    model.add(Dense(10))\n",
    "    model.add(Activation('softmax'))\n",
    "    \n",
    "    optimizer = SGD(lr=learn_rate, momentum=momentum)\n",
    "    \n",
    "    # compiling the sequential model\n",
    "    model.compile(loss='categorical_crossentropy', metrics=['accuracy'], optimizer=optimizer)\n",
    "    \n",
    "    return model\n",
    "\n",
    "# create model\n",
    "model = KerasClassifier(build_fn=create_model2, epochs=25, batch_size=128, verbose=0)\n",
    "# define the grid search parameters\n",
    "learn_rate = [0.001, 0.01, 0.1, 0.2, 0.3]\n",
    "momentum = [0.0, 0.3, 0.6, 0.9]\n",
    "param_grid = dict(learn_rate=learn_rate, momentum=momentum)\n",
    "grid = GridSearchCV(estimator=model, param_grid=param_grid, n_jobs=-1, cv=3)\n",
    "grid_result = grid.fit(X_train, y_train)\n",
    "# summarize results\n",
    "print(\"Best: %f using %s\" % (grid_result.best_score_, grid_result.best_params_))\n",
    "means = grid_result.cv_results_['mean_test_score']\n",
    "stds = grid_result.cv_results_['std_test_score']\n",
    "params = grid_result.cv_results_['params']\n",
    "for mean, stdev, param in zip(means, stds, params):\n",
    "    print(\"%f (%f) with: %r\" % (mean, stdev, param))"
   ]
  },
  {
   "cell_type": "markdown",
   "metadata": {},
   "source": [
    "## Comparing Activation Function"
   ]
  },
  {
   "cell_type": "code",
   "execution_count": 69,
   "metadata": {},
   "outputs": [
    {
     "name": "stdout",
     "output_type": "stream",
     "text": [
      "Best: 0.979267 using {'activation': 'relu'}\n",
      "0.109233 (0.003863) with: {'activation': 'softmax'}\n",
      "0.974050 (0.001471) with: {'activation': 'softplus'}\n",
      "0.973883 (0.001291) with: {'activation': 'softsign'}\n",
      "0.979267 (0.000839) with: {'activation': 'relu'}\n",
      "0.975450 (0.000216) with: {'activation': 'tanh'}\n",
      "0.958050 (0.001724) with: {'activation': 'sigmoid'}\n",
      "0.959533 (0.001659) with: {'activation': 'hard_sigmoid'}\n",
      "0.890850 (0.004416) with: {'activation': 'linear'}\n"
     ]
    }
   ],
   "source": [
    "def create_model3(activation='relu'):\n",
    "\t# create model\n",
    "    model = Sequential()\n",
    "    model.add(Dense(512, input_shape=(784,)))\n",
    "    model.add(Activation(activation))                            \n",
    "    model.add(Dropout(0.2))\n",
    "\n",
    "    model.add(Dense(512))\n",
    "    model.add(Activation(activation))\n",
    "    model.add(Dropout(0.2))\n",
    "\n",
    "    model.add(Dense(10))\n",
    "    model.add(Activation('softmax'))\n",
    "    \n",
    "    optimizer = SGD(lr=0.2, momentum=0.6)\n",
    "    \n",
    "    # compiling the sequential model\n",
    "    model.compile(loss='categorical_crossentropy', metrics=['accuracy'], optimizer=optimizer)\n",
    "    \n",
    "    return model\n",
    "\n",
    "# create model\n",
    "model = KerasClassifier(build_fn=create_model3, epochs=20, batch_size=128, verbose=0)\n",
    "# define the grid search parameters\n",
    "activation = ['softmax', 'softplus', 'softsign', 'relu', 'tanh', 'sigmoid', 'hard_sigmoid', 'linear']\n",
    "param_grid = dict(activation=activation)\n",
    "grid = GridSearchCV(estimator=model, param_grid=param_grid, n_jobs=-1, cv=3)\n",
    "grid_result = grid.fit(X_train, y_train)\n",
    "# summarize results\n",
    "print(\"Best: %f using %s\" % (grid_result.best_score_, grid_result.best_params_))\n",
    "means = grid_result.cv_results_['mean_test_score']\n",
    "stds = grid_result.cv_results_['std_test_score']\n",
    "params = grid_result.cv_results_['params']\n",
    "for mean, stdev, param in zip(means, stds, params):\n",
    "    print(\"%f (%f) with: %r\" % (mean, stdev, param))"
   ]
  },
  {
   "cell_type": "code",
   "execution_count": 16,
   "metadata": {},
   "outputs": [],
   "source": [
    "# compiling the sequential model\n",
    "model.compile(loss='categorical_crossentropy', metrics=['accuracy'], optimizer='sgd')"
   ]
  },
  {
   "cell_type": "code",
   "execution_count": 17,
   "metadata": {
    "scrolled": true
   },
   "outputs": [
    {
     "name": "stdout",
     "output_type": "stream",
     "text": [
      "Train on 60000 samples, validate on 10000 samples\n",
      "Epoch 1/20\n",
      " - 5s - loss: 0.0145 - accuracy: 0.9953 - val_loss: 0.0766 - val_accuracy: 0.9832\n",
      "Epoch 2/20\n",
      " - 5s - loss: 0.0091 - accuracy: 0.9969 - val_loss: 0.0742 - val_accuracy: 0.9841\n",
      "Epoch 3/20\n",
      " - 5s - loss: 0.0073 - accuracy: 0.9976 - val_loss: 0.0728 - val_accuracy: 0.9844\n",
      "Epoch 4/20\n",
      " - 4s - loss: 0.0072 - accuracy: 0.9978 - val_loss: 0.0719 - val_accuracy: 0.9845\n",
      "Epoch 5/20\n",
      " - 5s - loss: 0.0060 - accuracy: 0.9980 - val_loss: 0.0713 - val_accuracy: 0.9844\n",
      "Epoch 6/20\n",
      " - 4s - loss: 0.0062 - accuracy: 0.9980 - val_loss: 0.0707 - val_accuracy: 0.9842\n",
      "Epoch 7/20\n",
      " - 5s - loss: 0.0049 - accuracy: 0.9985 - val_loss: 0.0702 - val_accuracy: 0.9844\n",
      "Epoch 8/20\n",
      " - 5s - loss: 0.0050 - accuracy: 0.9982 - val_loss: 0.0696 - val_accuracy: 0.9847\n",
      "Epoch 9/20\n",
      " - 4s - loss: 0.0048 - accuracy: 0.9985 - val_loss: 0.0695 - val_accuracy: 0.9846\n",
      "Epoch 10/20\n",
      " - 5s - loss: 0.0055 - accuracy: 0.9984 - val_loss: 0.0692 - val_accuracy: 0.9850\n",
      "Epoch 11/20\n",
      " - 5s - loss: 0.0041 - accuracy: 0.9988 - val_loss: 0.0688 - val_accuracy: 0.9850\n",
      "Epoch 12/20\n",
      " - 6s - loss: 0.0043 - accuracy: 0.9986 - val_loss: 0.0685 - val_accuracy: 0.9851\n",
      "Epoch 13/20\n",
      " - 5s - loss: 0.0044 - accuracy: 0.9987 - val_loss: 0.0680 - val_accuracy: 0.9858\n",
      "Epoch 14/20\n",
      " - 8s - loss: 0.0040 - accuracy: 0.9987 - val_loss: 0.0678 - val_accuracy: 0.9858\n",
      "Epoch 15/20\n",
      " - 6s - loss: 0.0045 - accuracy: 0.9985 - val_loss: 0.0677 - val_accuracy: 0.9855\n",
      "Epoch 16/20\n",
      " - 6s - loss: 0.0036 - accuracy: 0.9990 - val_loss: 0.0676 - val_accuracy: 0.9859\n",
      "Epoch 17/20\n",
      " - 9s - loss: 0.0040 - accuracy: 0.9988 - val_loss: 0.0676 - val_accuracy: 0.9858\n",
      "Epoch 18/20\n",
      " - 6s - loss: 0.0037 - accuracy: 0.9988 - val_loss: 0.0674 - val_accuracy: 0.9858\n",
      "Epoch 19/20\n",
      " - 6s - loss: 0.0042 - accuracy: 0.9985 - val_loss: 0.0673 - val_accuracy: 0.9860\n",
      "Epoch 20/20\n",
      " - 6s - loss: 0.0033 - accuracy: 0.9989 - val_loss: 0.0673 - val_accuracy: 0.9859\n",
      "Saved trained model at /home/yerbolat/MOSIG/Semester2/Intelligent_Systems/results/keras_mnist_sgd.h5 \n"
     ]
    },
    {
     "data": {
      "image/png": "[encoded data removed]",
      "text/plain": [
       "<Figure size 432x288 with 2 Axes>"
      ]
     },
     "execution_count": 17,
     "metadata": {},
     "output_type": "execute_result"
    }
   ],
   "source": [
    "# training the model and saving metrics in history\n",
    "history = model.fit(X_train, Y_train,\n",
    "          batch_size=128, epochs=20,\n",
    "          verbose=2,\n",
    "          validation_data=(X_test, Y_test))\n",
    "\n",
    "# saving the model\n",
    "save_dir = \"/home/yerbolat/MOSIG/Semester2/Intelligent_Systems/results/\"\n",
    "model_name = 'keras_mnist_sgd.h5'\n",
    "model_path = os.path.join(save_dir, model_name)\n",
    "model.save(model_path)\n",
    "print('Saved trained model at %s ' % model_path)\n",
    "\n",
    "# plotting the metrics\n",
    "fig = plt.figure()\n",
    "plt.subplot(2,1,1)\n",
    "plt.plot(history.history['accuracy'])\n",
    "plt.plot(history.history['val_accuracy'])\n",
    "plt.title('model accuracy')\n",
    "plt.ylabel('accuracy')\n",
    "plt.xlabel('epoch')\n",
    "plt.legend(['train', 'test'], loc='lower right')\n",
    "\n",
    "plt.subplot(2,1,2)\n",
    "plt.plot(history.history['loss'])\n",
    "plt.plot(history.history['val_loss'])\n",
    "plt.title('model loss')\n",
    "plt.ylabel('loss')\n",
    "plt.xlabel('epoch')\n",
    "plt.legend(['train', 'test'], loc='upper right')\n",
    "\n",
    "plt.tight_layout()\n",
    "\n",
    "fig"
   ]
  },
  {
   "cell_type": "code",
   "execution_count": 18,
   "metadata": {},
   "outputs": [
    {
     "name": "stdout",
     "output_type": "stream",
     "text": [
      "Test Loss 0.06725367591153895\n",
      "Test Accuracy 0.9858999848365784\n"
     ]
    }
   ],
   "source": [
    "mnist_model = load_model('/home/yerbolat/MOSIG/Semester2/Intelligent_Systems/results/keras_mnist_sgd.h5')\n",
    "loss_and_metrics = mnist_model.evaluate(X_test, Y_test, verbose=2)\n",
    "\n",
    "print(\"Test Loss\", loss_and_metrics[0])\n",
    "print(\"Test Accuracy\", loss_and_metrics[1])"
   ]
  },
  {
   "cell_type": "code",
   "execution_count": 41,
   "metadata": {},
   "outputs": [
    {
     "name": "stdout",
     "output_type": "stream",
     "text": [
      "\n",
      "9855  classified correctly\n",
      "145  classified incorrectly\n"
     ]
    },
    {
     "data": {
      "image/png": "[encoded data removed]",
      "text/plain": [
       "<Figure size 504x1008 with 18 Axes>"
      ]
     },
     "execution_count": 41,
     "metadata": {},
     "output_type": "execute_result"
    }
   ],
   "source": [
    "# load the model and create predictions on the test set\n",
    "mnist_model = load_model('/home/yerbolat/MOSIG/Semester2/Intelligent_Systems/results/keras_mnist.h5')\n",
    "predicted_classes = mnist_model.predict_classes(X_test)\n",
    "\n",
    "# see which we predicted correctly and which not\n",
    "correct_indices = np.nonzero(predicted_classes == y_test)[0]\n",
    "incorrect_indices = np.nonzero(predicted_classes != y_test)[0]\n",
    "print()\n",
    "print(len(correct_indices),\" classified correctly\")\n",
    "print(len(incorrect_indices),\" classified incorrectly\")\n",
    "\n",
    "# adapt figure size to accomodate 18 subplots\n",
    "plt.rcParams['figure.figsize'] = (7,14)\n",
    "\n",
    "figure_evaluation = plt.figure()\n",
    "\n",
    "# plot 9 correct predictions\n",
    "for i, correct in enumerate(correct_indices[:9]):\n",
    "    plt.subplot(6,3,i+1)\n",
    "    plt.imshow(X_test[correct].reshape(28,28), cmap='gray', interpolation='none')\n",
    "    plt.title(\n",
    "      \"Predicted: {}, Truth: {}\".format(predicted_classes[correct],\n",
    "                                        y_test[correct]))\n",
    "    plt.xticks([])\n",
    "    plt.yticks([])\n",
    "\n",
    "# plot 9 incorrect predictions\n",
    "for i, incorrect in enumerate(incorrect_indices[:9]):\n",
    "    plt.subplot(6,3,i+10)\n",
    "    plt.imshow(X_test[incorrect].reshape(28,28), cmap='gray', interpolation='none')\n",
    "    plt.title(\n",
    "      \"Predicted {}, Truth: {}\".format(predicted_classes[incorrect], \n",
    "                                       y_test[incorrect]))\n",
    "    plt.xticks([])\n",
    "    plt.yticks([])\n",
    "\n",
    "figure_evaluation"
   ]
  },
  {
   "cell_type": "code",
   "execution_count": null,
   "metadata": {},
   "outputs": [],
   "source": []
  }
 ],
 "metadata": {
  "kernelspec": {
   "display_name": "Python 3",
   "language": "python",
   "name": "python3"
  },
  "language_info": {
   "codemirror_mode": {
    "name": "ipython",
    "version": 3
   },
   "file_extension": ".py",
   "mimetype": "text/x-python",
   "name": "python",
   "nbconvert_exporter": "python",
   "pygments_lexer": "ipython3",
   "version": "3.6.9"
  }
 },
 "nbformat": 4,
 "nbformat_minor": 4
}
